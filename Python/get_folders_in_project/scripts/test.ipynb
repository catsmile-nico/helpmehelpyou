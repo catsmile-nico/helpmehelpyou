{
  "cells": [
    {
      "cell_type": "code",
      "execution_count": 1,
      "metadata": {},
      "outputs": [
        {
          "name": "stdout",
          "output_type": "stream",
          "text": [
            "script folder: /mnt/u/25/Projects/helpmehelpyou/Python/get_folders_in_project/scripts\n",
            "project folder: /mnt/u/25/Projects/helpmehelpyou/Python/get_folders_in_project\n",
            "data folder: /mnt/u/25/Projects/helpmehelpyou/Python/get_folders_in_project/data\n",
            "testtext\n"
          ]
        }
      ],
      "source": [
        "import os\n",
        "\n",
        "# Get the path of the script folder\n",
        "script_folder = os.path.abspath('')\n",
        "print(\"script folder: {path}\".format(path=script_folder))\n",
        "\n",
        "# Get the path of the project folder\n",
        "project_folder = os.path.dirname(script_folder)\n",
        "print(\"project folder: {path}\".format(path=project_folder))\n",
        "\n",
        "# Construct the path to the data folder from project folder\n",
        "data_folder = os.path.join(project_folder, 'data')\n",
        "print(\"data folder: {path}\".format(path=data_folder))\n",
        "\n",
        "# Read a file in the data folder\n",
        "file_path = os.path.join(data_folder, 'example.txt')\n",
        "with open(file_path, 'r') as file:\n",
        "    content = file.read()\n",
        "    print(content)"
      ]
    }
  ],
  "metadata": {
    "kernelspec": {
      "display_name": "Python 3",
      "language": "python",
      "name": "python3"
    },
    "language_info": {
      "codemirror_mode": {
        "name": "ipython",
        "version": 3
      },
      "file_extension": ".py",
      "mimetype": "text/x-python",
      "name": "python",
      "nbconvert_exporter": "python",
      "pygments_lexer": "ipython3",
      "version": "3.11.3"
    },
    "orig_nbformat": 4,
    "script_version": ""
  },
  "nbformat": 4,
  "nbformat_minor": 2
}
